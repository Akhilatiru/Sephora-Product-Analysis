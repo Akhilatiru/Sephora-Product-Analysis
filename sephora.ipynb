{
 "cells": [
  {
   "cell_type": "markdown",
   "metadata": {},
   "source": [
    "# Sephora Product Analysis"
   ]
  },
  {
   "cell_type": "code",
   "execution_count": 2,
   "metadata": {},
   "outputs": [],
   "source": [
    "import pandas as pd\n",
    "import numpy as np\n",
    "import matplotlib.pyplot as plt\n",
    "import seaborn as sns\n",
    "df_products=pd.read_csv('./product_info.csv')"
   ]
  },
  {
   "cell_type": "markdown",
   "metadata": {},
   "source": [
    "### Understanding the Data"
   ]
  },
  {
   "cell_type": "code",
   "execution_count": 4,
   "metadata": {},
   "outputs": [
    {
     "name": "stdout",
     "output_type": "stream",
     "text": [
      "<class 'pandas.core.frame.DataFrame'>\n",
      "RangeIndex: 8494 entries, 0 to 8493\n",
      "Data columns (total 27 columns):\n",
      " #   Column              Non-Null Count  Dtype  \n",
      "---  ------              --------------  -----  \n",
      " 0   product_id          8494 non-null   object \n",
      " 1   product_name        8494 non-null   object \n",
      " 2   brand_id            8494 non-null   int64  \n",
      " 3   brand_name          8494 non-null   object \n",
      " 4   loves_count         8494 non-null   int64  \n",
      " 5   rating              8216 non-null   float64\n",
      " 6   reviews             8216 non-null   float64\n",
      " 7   size                6863 non-null   object \n",
      " 8   variation_type      7050 non-null   object \n",
      " 9   variation_value     6896 non-null   object \n",
      " 10  variation_desc      1250 non-null   object \n",
      " 11  ingredients         7549 non-null   object \n",
      " 12  price_usd           8494 non-null   float64\n",
      " 13  value_price_usd     451 non-null    float64\n",
      " 14  sale_price_usd      270 non-null    float64\n",
      " 15  limited_edition     8494 non-null   int64  \n",
      " 16  new                 8494 non-null   int64  \n",
      " 17  online_only         8494 non-null   int64  \n",
      " 18  out_of_stock        8494 non-null   int64  \n",
      " 19  sephora_exclusive   8494 non-null   int64  \n",
      " 20  highlights          6287 non-null   object \n",
      " 21  primary_category    8494 non-null   object \n",
      " 22  secondary_category  8486 non-null   object \n",
      " 23  tertiary_category   7504 non-null   object \n",
      " 24  child_count         8494 non-null   int64  \n",
      " 25  child_max_price     2754 non-null   float64\n",
      " 26  child_min_price     2754 non-null   float64\n",
      "dtypes: float64(7), int64(8), object(12)\n",
      "memory usage: 1.7+ MB\n"
     ]
    },
    {
     "data": {
      "text/html": [
       "<div>\n",
       "<style scoped>\n",
       "    .dataframe tbody tr th:only-of-type {\n",
       "        vertical-align: middle;\n",
       "    }\n",
       "\n",
       "    .dataframe tbody tr th {\n",
       "        vertical-align: top;\n",
       "    }\n",
       "\n",
       "    .dataframe thead th {\n",
       "        text-align: right;\n",
       "    }\n",
       "</style>\n",
       "<table border=\"1\" class=\"dataframe\">\n",
       "  <thead>\n",
       "    <tr style=\"text-align: right;\">\n",
       "      <th></th>\n",
       "      <th>brand_id</th>\n",
       "      <th>loves_count</th>\n",
       "      <th>rating</th>\n",
       "      <th>reviews</th>\n",
       "      <th>price_usd</th>\n",
       "      <th>value_price_usd</th>\n",
       "      <th>sale_price_usd</th>\n",
       "      <th>limited_edition</th>\n",
       "      <th>new</th>\n",
       "      <th>online_only</th>\n",
       "      <th>out_of_stock</th>\n",
       "      <th>sephora_exclusive</th>\n",
       "      <th>child_count</th>\n",
       "      <th>child_max_price</th>\n",
       "      <th>child_min_price</th>\n",
       "    </tr>\n",
       "  </thead>\n",
       "  <tbody>\n",
       "    <tr>\n",
       "      <th>count</th>\n",
       "      <td>8494.000000</td>\n",
       "      <td>8.494000e+03</td>\n",
       "      <td>8216.000000</td>\n",
       "      <td>8216.000000</td>\n",
       "      <td>8494.000000</td>\n",
       "      <td>451.000000</td>\n",
       "      <td>270.000000</td>\n",
       "      <td>8494.000000</td>\n",
       "      <td>8494.000000</td>\n",
       "      <td>8494.000000</td>\n",
       "      <td>8494.000000</td>\n",
       "      <td>8494.000000</td>\n",
       "      <td>8494.000000</td>\n",
       "      <td>2754.000000</td>\n",
       "      <td>2754.000000</td>\n",
       "    </tr>\n",
       "    <tr>\n",
       "      <th>mean</th>\n",
       "      <td>5422.440546</td>\n",
       "      <td>2.917957e+04</td>\n",
       "      <td>4.194513</td>\n",
       "      <td>448.545521</td>\n",
       "      <td>51.655595</td>\n",
       "      <td>91.168537</td>\n",
       "      <td>20.207889</td>\n",
       "      <td>0.070285</td>\n",
       "      <td>0.071698</td>\n",
       "      <td>0.219096</td>\n",
       "      <td>0.073699</td>\n",
       "      <td>0.279374</td>\n",
       "      <td>1.631622</td>\n",
       "      <td>53.792023</td>\n",
       "      <td>39.665802</td>\n",
       "    </tr>\n",
       "    <tr>\n",
       "      <th>std</th>\n",
       "      <td>1709.595957</td>\n",
       "      <td>6.609212e+04</td>\n",
       "      <td>0.516694</td>\n",
       "      <td>1101.982529</td>\n",
       "      <td>53.669234</td>\n",
       "      <td>79.195631</td>\n",
       "      <td>24.327352</td>\n",
       "      <td>0.255642</td>\n",
       "      <td>0.258002</td>\n",
       "      <td>0.413658</td>\n",
       "      <td>0.261296</td>\n",
       "      <td>0.448718</td>\n",
       "      <td>5.379470</td>\n",
       "      <td>58.765894</td>\n",
       "      <td>38.685720</td>\n",
       "    </tr>\n",
       "    <tr>\n",
       "      <th>min</th>\n",
       "      <td>1063.000000</td>\n",
       "      <td>0.000000e+00</td>\n",
       "      <td>1.000000</td>\n",
       "      <td>1.000000</td>\n",
       "      <td>3.000000</td>\n",
       "      <td>0.000000</td>\n",
       "      <td>1.750000</td>\n",
       "      <td>0.000000</td>\n",
       "      <td>0.000000</td>\n",
       "      <td>0.000000</td>\n",
       "      <td>0.000000</td>\n",
       "      <td>0.000000</td>\n",
       "      <td>0.000000</td>\n",
       "      <td>3.000000</td>\n",
       "      <td>3.000000</td>\n",
       "    </tr>\n",
       "    <tr>\n",
       "      <th>25%</th>\n",
       "      <td>5333.000000</td>\n",
       "      <td>3.758000e+03</td>\n",
       "      <td>3.981725</td>\n",
       "      <td>26.000000</td>\n",
       "      <td>25.000000</td>\n",
       "      <td>45.000000</td>\n",
       "      <td>8.000000</td>\n",
       "      <td>0.000000</td>\n",
       "      <td>0.000000</td>\n",
       "      <td>0.000000</td>\n",
       "      <td>0.000000</td>\n",
       "      <td>0.000000</td>\n",
       "      <td>0.000000</td>\n",
       "      <td>22.000000</td>\n",
       "      <td>19.000000</td>\n",
       "    </tr>\n",
       "    <tr>\n",
       "      <th>50%</th>\n",
       "      <td>6157.500000</td>\n",
       "      <td>9.880000e+03</td>\n",
       "      <td>4.289350</td>\n",
       "      <td>122.000000</td>\n",
       "      <td>35.000000</td>\n",
       "      <td>67.000000</td>\n",
       "      <td>14.000000</td>\n",
       "      <td>0.000000</td>\n",
       "      <td>0.000000</td>\n",
       "      <td>0.000000</td>\n",
       "      <td>0.000000</td>\n",
       "      <td>0.000000</td>\n",
       "      <td>0.000000</td>\n",
       "      <td>32.000000</td>\n",
       "      <td>28.000000</td>\n",
       "    </tr>\n",
       "    <tr>\n",
       "      <th>75%</th>\n",
       "      <td>6328.000000</td>\n",
       "      <td>2.684125e+04</td>\n",
       "      <td>4.530525</td>\n",
       "      <td>418.000000</td>\n",
       "      <td>58.000000</td>\n",
       "      <td>108.500000</td>\n",
       "      <td>25.000000</td>\n",
       "      <td>0.000000</td>\n",
       "      <td>0.000000</td>\n",
       "      <td>0.000000</td>\n",
       "      <td>0.000000</td>\n",
       "      <td>1.000000</td>\n",
       "      <td>1.000000</td>\n",
       "      <td>59.000000</td>\n",
       "      <td>42.000000</td>\n",
       "    </tr>\n",
       "    <tr>\n",
       "      <th>max</th>\n",
       "      <td>8020.000000</td>\n",
       "      <td>1.401068e+06</td>\n",
       "      <td>5.000000</td>\n",
       "      <td>21281.000000</td>\n",
       "      <td>1900.000000</td>\n",
       "      <td>617.000000</td>\n",
       "      <td>320.000000</td>\n",
       "      <td>1.000000</td>\n",
       "      <td>1.000000</td>\n",
       "      <td>1.000000</td>\n",
       "      <td>1.000000</td>\n",
       "      <td>1.000000</td>\n",
       "      <td>105.000000</td>\n",
       "      <td>570.000000</td>\n",
       "      <td>400.000000</td>\n",
       "    </tr>\n",
       "  </tbody>\n",
       "</table>\n",
       "</div>"
      ],
      "text/plain": [
       "          brand_id   loves_count       rating       reviews    price_usd  \\\n",
       "count  8494.000000  8.494000e+03  8216.000000   8216.000000  8494.000000   \n",
       "mean   5422.440546  2.917957e+04     4.194513    448.545521    51.655595   \n",
       "std    1709.595957  6.609212e+04     0.516694   1101.982529    53.669234   \n",
       "min    1063.000000  0.000000e+00     1.000000      1.000000     3.000000   \n",
       "25%    5333.000000  3.758000e+03     3.981725     26.000000    25.000000   \n",
       "50%    6157.500000  9.880000e+03     4.289350    122.000000    35.000000   \n",
       "75%    6328.000000  2.684125e+04     4.530525    418.000000    58.000000   \n",
       "max    8020.000000  1.401068e+06     5.000000  21281.000000  1900.000000   \n",
       "\n",
       "       value_price_usd  sale_price_usd  limited_edition          new  \\\n",
       "count       451.000000      270.000000      8494.000000  8494.000000   \n",
       "mean         91.168537       20.207889         0.070285     0.071698   \n",
       "std          79.195631       24.327352         0.255642     0.258002   \n",
       "min           0.000000        1.750000         0.000000     0.000000   \n",
       "25%          45.000000        8.000000         0.000000     0.000000   \n",
       "50%          67.000000       14.000000         0.000000     0.000000   \n",
       "75%         108.500000       25.000000         0.000000     0.000000   \n",
       "max         617.000000      320.000000         1.000000     1.000000   \n",
       "\n",
       "       online_only  out_of_stock  sephora_exclusive  child_count  \\\n",
       "count  8494.000000   8494.000000        8494.000000  8494.000000   \n",
       "mean      0.219096      0.073699           0.279374     1.631622   \n",
       "std       0.413658      0.261296           0.448718     5.379470   \n",
       "min       0.000000      0.000000           0.000000     0.000000   \n",
       "25%       0.000000      0.000000           0.000000     0.000000   \n",
       "50%       0.000000      0.000000           0.000000     0.000000   \n",
       "75%       0.000000      0.000000           1.000000     1.000000   \n",
       "max       1.000000      1.000000           1.000000   105.000000   \n",
       "\n",
       "       child_max_price  child_min_price  \n",
       "count      2754.000000      2754.000000  \n",
       "mean         53.792023        39.665802  \n",
       "std          58.765894        38.685720  \n",
       "min           3.000000         3.000000  \n",
       "25%          22.000000        19.000000  \n",
       "50%          32.000000        28.000000  \n",
       "75%          59.000000        42.000000  \n",
       "max         570.000000       400.000000  "
      ]
     },
     "execution_count": 4,
     "metadata": {},
     "output_type": "execute_result"
    }
   ],
   "source": [
    "df_products.info()\n",
    "df_products.describe()"
   ]
  },
  {
   "cell_type": "markdown",
   "metadata": {},
   "source": [
    "### Descriptive Anlaysis"
   ]
  },
  {
   "cell_type": "code",
   "execution_count": 6,
   "metadata": {},
   "outputs": [
    {
     "data": {
      "text/plain": [
       "count    8216.000000\n",
       "mean        4.194513\n",
       "std         0.516694\n",
       "min         1.000000\n",
       "25%         3.981725\n",
       "50%         4.289350\n",
       "75%         4.530525\n",
       "max         5.000000\n",
       "Name: rating, dtype: float64"
      ]
     },
     "execution_count": 6,
     "metadata": {},
     "output_type": "execute_result"
    }
   ],
   "source": [
    "# Descriptive statistics:\n",
    "# Ratings\n",
    "ratings_descriptive= df_products['rating'].describe()\n",
    "ratings_descriptive\n"
   ]
  },
  {
   "cell_type": "markdown",
   "metadata": {},
   "source": [
    "Average rating across products is 4.2. Ratings range from 1.0 to 5.0, with most products falling between 3.9 and 4.5."
   ]
  },
  {
   "cell_type": "markdown",
   "metadata": {},
   "source": [
    "---"
   ]
  },
  {
   "cell_type": "code",
   "execution_count": 9,
   "metadata": {},
   "outputs": [
    {
     "data": {
      "text/plain": [
       "count    8494.000000\n",
       "mean       51.655595\n",
       "std        53.669234\n",
       "min         3.000000\n",
       "25%        25.000000\n",
       "50%        35.000000\n",
       "75%        58.000000\n",
       "max      1900.000000\n",
       "Name: price_usd, dtype: float64"
      ]
     },
     "execution_count": 9,
     "metadata": {},
     "output_type": "execute_result"
    }
   ],
   "source": [
    "# Price\n",
    "price_descriptive= df_products['price_usd'].describe()\n",
    "\n",
    "price_descriptive\n"
   ]
  },
  {
   "cell_type": "markdown",
   "metadata": {},
   "source": [
    "Average price across products is \\$51.66 . Price range from 3.0 to 1900.0, with most products falling between 25.0 and 58.0."
   ]
  },
  {
   "cell_type": "markdown",
   "metadata": {},
   "source": [
    "---"
   ]
  },
  {
   "cell_type": "markdown",
   "metadata": {},
   "source": [
    "**To analyze how ratings affect the number of favorites for a product, we only need a few specific columns from the original DataFrame. Therefore, I created a subset of the DataFrame containing only the required columns for this analysis.**\n"
   ]
  },
  {
   "cell_type": "code",
   "execution_count": 13,
   "metadata": {},
   "outputs": [],
   "source": [
    "df_prodsubset= df_products[['product_id','product_name','brand_id','brand_name','loves_count','rating']]\n",
    "\n",
    "##### initializing the new subset as a DataFrame\n",
    "\n",
    "df_prodsubset=pd.DataFrame(df_prodsubset)\n"
   ]
  },
  {
   "cell_type": "markdown",
   "metadata": {},
   "source": [
    "Checking for missing or null values in the DataFrame"
   ]
  },
  {
   "cell_type": "code",
   "execution_count": 15,
   "metadata": {},
   "outputs": [
    {
     "data": {
      "text/plain": [
       "product_id        0\n",
       "product_name      0\n",
       "brand_id          0\n",
       "brand_name        0\n",
       "loves_count       0\n",
       "rating          278\n",
       "dtype: int64"
      ]
     },
     "execution_count": 15,
     "metadata": {},
     "output_type": "execute_result"
    }
   ],
   "source": [
    "df_prodsubset.isnull().sum()"
   ]
  },
  {
   "cell_type": "markdown",
   "metadata": {},
   "source": [
    "Since the proportion of missing values in the rating column is low relative to the total number of rows in the DataFrame, I have decided to remove the rows with missing values in that column.\n"
   ]
  },
  {
   "cell_type": "code",
   "execution_count": 17,
   "metadata": {},
   "outputs": [
    {
     "data": {
      "text/plain": [
       "product_id      0\n",
       "product_name    0\n",
       "brand_id        0\n",
       "brand_name      0\n",
       "loves_count     0\n",
       "rating          0\n",
       "dtype: int64"
      ]
     },
     "execution_count": 17,
     "metadata": {},
     "output_type": "execute_result"
    }
   ],
   "source": [
    "df_prodsubset.dropna(subset=['rating'], inplace=True)\n",
    "df_prodsubset.isnull().sum()"
   ]
  },
  {
   "cell_type": "markdown",
   "metadata": {},
   "source": [
    "---\n",
    "No data type conversions are necessary as the existing types appear to be correct.\n",
    "Proceeding to check for duplicates"
   ]
  },
  {
   "cell_type": "code",
   "execution_count": 19,
   "metadata": {},
   "outputs": [
    {
     "name": "stdout",
     "output_type": "stream",
     "text": [
      "0\n"
     ]
    }
   ],
   "source": [
    "duplicate_df=df_prodsubset.duplicated().sum()\n",
    "print(duplicate_df)"
   ]
  },
  {
   "cell_type": "markdown",
   "metadata": {},
   "source": [
    "---\n",
    "Correcting any improperly formatted values in the DataFrame"
   ]
  },
  {
   "cell_type": "code",
   "execution_count": 21,
   "metadata": {},
   "outputs": [
    {
     "data": {
      "text/html": [
       "<div>\n",
       "<style scoped>\n",
       "    .dataframe tbody tr th:only-of-type {\n",
       "        vertical-align: middle;\n",
       "    }\n",
       "\n",
       "    .dataframe tbody tr th {\n",
       "        vertical-align: top;\n",
       "    }\n",
       "\n",
       "    .dataframe thead th {\n",
       "        text-align: right;\n",
       "    }\n",
       "</style>\n",
       "<table border=\"1\" class=\"dataframe\">\n",
       "  <thead>\n",
       "    <tr style=\"text-align: right;\">\n",
       "      <th></th>\n",
       "      <th>product_id</th>\n",
       "      <th>product_name</th>\n",
       "      <th>brand_id</th>\n",
       "      <th>brand_name</th>\n",
       "      <th>loves_count</th>\n",
       "      <th>rating</th>\n",
       "    </tr>\n",
       "  </thead>\n",
       "  <tbody>\n",
       "    <tr>\n",
       "      <th>0</th>\n",
       "      <td>P473671</td>\n",
       "      <td>Fragrance Discovery Set</td>\n",
       "      <td>6342</td>\n",
       "      <td>19-69</td>\n",
       "      <td>6320</td>\n",
       "      <td>3.6364</td>\n",
       "    </tr>\n",
       "    <tr>\n",
       "      <th>1</th>\n",
       "      <td>P473668</td>\n",
       "      <td>La Habana Eau De Parfum</td>\n",
       "      <td>6342</td>\n",
       "      <td>19-69</td>\n",
       "      <td>3827</td>\n",
       "      <td>4.1538</td>\n",
       "    </tr>\n",
       "    <tr>\n",
       "      <th>2</th>\n",
       "      <td>P473662</td>\n",
       "      <td>Rainbow Bar Eau De Parfum</td>\n",
       "      <td>6342</td>\n",
       "      <td>19-69</td>\n",
       "      <td>3253</td>\n",
       "      <td>4.2500</td>\n",
       "    </tr>\n",
       "    <tr>\n",
       "      <th>3</th>\n",
       "      <td>P473660</td>\n",
       "      <td>Kasbah Eau De Parfum</td>\n",
       "      <td>6342</td>\n",
       "      <td>19-69</td>\n",
       "      <td>3018</td>\n",
       "      <td>4.4762</td>\n",
       "    </tr>\n",
       "    <tr>\n",
       "      <th>4</th>\n",
       "      <td>P473658</td>\n",
       "      <td>Purple Haze Eau De Parfum</td>\n",
       "      <td>6342</td>\n",
       "      <td>19-69</td>\n",
       "      <td>2691</td>\n",
       "      <td>3.2308</td>\n",
       "    </tr>\n",
       "  </tbody>\n",
       "</table>\n",
       "</div>"
      ],
      "text/plain": [
       "  product_id               product_name  brand_id brand_name  loves_count  \\\n",
       "0    P473671    Fragrance Discovery Set      6342      19-69         6320   \n",
       "1    P473668    La Habana Eau De Parfum      6342      19-69         3827   \n",
       "2    P473662  Rainbow Bar Eau De Parfum      6342      19-69         3253   \n",
       "3    P473660       Kasbah Eau De Parfum      6342      19-69         3018   \n",
       "4    P473658  Purple Haze Eau De Parfum      6342      19-69         2691   \n",
       "\n",
       "   rating  \n",
       "0  3.6364  \n",
       "1  4.1538  \n",
       "2  4.2500  \n",
       "3  4.4762  \n",
       "4  3.2308  "
      ]
     },
     "execution_count": 21,
     "metadata": {},
     "output_type": "execute_result"
    }
   ],
   "source": [
    "df_prodsubset['product_name'] = df_prodsubset['product_name'].str.title()\n",
    "df_prodsubset['brand_name'] = df_prodsubset['brand_name'].str.title()\n",
    "df_prodsubset.head()"
   ]
  },
  {
   "cell_type": "markdown",
   "metadata": {},
   "source": [
    "---"
   ]
  },
  {
   "cell_type": "markdown",
   "metadata": {},
   "source": [
    "## Analysis:\n"
   ]
  },
  {
   "cell_type": "markdown",
   "metadata": {},
   "source": [
    "### Analysis 1: Histogram Analysis of Product Ratings"
   ]
  },
  {
   "cell_type": "code",
   "execution_count": 74,
   "metadata": {},
   "outputs": [
    {
     "data": {
      "image/png": "[encoded data removed]",
      "text/plain": [
       "<Figure size 1200x600 with 1 Axes>"
      ]
     },
     "metadata": {},
     "output_type": "display_data"
    }
   ],
   "source": [
    "# Plot histogram and density plot for the 'rating' column\n",
    "plt.figure(figsize=(12, 6))\n",
    "sns.histplot(df_prodsubset['rating'], bins=30, color='lightblue')\n",
    "plt.title('Histogram of Ratings')\n",
    "plt.xlabel('Rating')\n",
    "plt.ylabel('Frequency')\n",
    "plt.savefig('histogram of product ratings.png')\n",
    "plt.show()"
   ]
  },
  {
   "cell_type": "markdown",
   "metadata": {},
   "source": [
    "In this analysis, the distribution of product ratings are spread across different values.\n",
    "\n",
    "### Interpretation\n",
    "\n",
    "The histogram shows a right-skewed distribution, with the majority of reviews clustering between 4.0 and 4.5, indicating that most products are highly rated, while very few ratings fall below 3.0.\n",
    "\n"
   ]
  },
  {
   "cell_type": "markdown",
   "metadata": {},
   "source": [
    "---"
   ]
  },
  {
   "cell_type": "markdown",
   "metadata": {},
   "source": [
    "### Analysis 2: Price vs Rating"
   ]
  },
  {
   "cell_type": "code",
   "execution_count": 29,
   "metadata": {},
   "outputs": [
    {
     "name": "stdout",
     "output_type": "stream",
     "text": [
      "<class 'pandas.core.frame.DataFrame'>\n",
      "Index: 8216 entries, 0 to 8491\n",
      "Data columns (total 2 columns):\n",
      " #   Column     Non-Null Count  Dtype  \n",
      "---  ------     --------------  -----  \n",
      " 0   price_usd  8216 non-null   float64\n",
      " 1   rating     8216 non-null   float64\n",
      "dtypes: float64(2)\n",
      "memory usage: 192.6 KB\n"
     ]
    }
   ],
   "source": [
    "df_pricerating=df_products[['price_usd','rating']]\n",
    "df_pricerating=df_pricerating.copy()\n",
    "df_pricerating.dropna(subset='rating', inplace=True)\n",
    "\n",
    "df_pricerating.info()"
   ]
  },
  {
   "cell_type": "code",
   "execution_count": 80,
   "metadata": {},
   "outputs": [
    {
     "data": {
      "image/png": "[encoded data removed]",
      "text/plain": [
       "<Figure size 1000x600 with 1 Axes>"
      ]
     },
     "metadata": {},
     "output_type": "display_data"
    }
   ],
   "source": [
    "plt.figure(figsize=(10, 6))\n",
    "sns.scatterplot(x ='price_usd', y='rating', data=df_pricerating)\n",
    "\n",
    "# Plot customization\n",
    "plt.title('Price vs. Rating')\n",
    "plt.xlabel('Price($)')\n",
    "plt.ylabel('Rating')\n",
    "plt.grid(True)\n",
    "plt.savefig('Scatter plot of Price vs ratings.png')\n",
    "\n",
    "plt.show()"
   ]
  },
  {
   "cell_type": "markdown",
   "metadata": {},
   "source": [
    "### Scatter Plot Analysis\n",
    "\n",
    "Most data points are clustered towards the lower price range, indicating that the majority of products are priced below 250. There is no clear trend between price and rating, suggesting that the price does not significantly influence the rating of products. Additionally, an outlier is observed around the price of 1750, which may represent a particularly expensive product that does not conform to the overall distribution."
   ]
  },
  {
   "cell_type": "markdown",
   "metadata": {},
   "source": [
    "---"
   ]
  },
  {
   "cell_type": "markdown",
   "metadata": {},
   "source": [
    "### Analysis 3: Top 10 Highest-Rated Products using `df_prodsubset`"
   ]
  },
  {
   "cell_type": "markdown",
   "metadata": {},
   "source": [
    "The following code extracts the list of highest-rated products."
   ]
  },
  {
   "cell_type": "code",
   "execution_count": 35,
   "metadata": {},
   "outputs": [
    {
     "data": {
      "text/html": [
       "<div>\n",
       "<style scoped>\n",
       "    .dataframe tbody tr th:only-of-type {\n",
       "        vertical-align: middle;\n",
       "    }\n",
       "\n",
       "    .dataframe tbody tr th {\n",
       "        vertical-align: top;\n",
       "    }\n",
       "\n",
       "    .dataframe thead th {\n",
       "        text-align: right;\n",
       "    }\n",
       "</style>\n",
       "<table border=\"1\" class=\"dataframe\">\n",
       "  <thead>\n",
       "    <tr style=\"text-align: right;\">\n",
       "      <th></th>\n",
       "      <th>product_name</th>\n",
       "      <th>brand_name</th>\n",
       "      <th>rating</th>\n",
       "    </tr>\n",
       "  </thead>\n",
       "  <tbody>\n",
       "    <tr>\n",
       "      <th>3949</th>\n",
       "      <td>Delikate Try Me Kit</td>\n",
       "      <td>Kate Somerville</td>\n",
       "      <td>5.0</td>\n",
       "    </tr>\n",
       "    <tr>\n",
       "      <th>3902</th>\n",
       "      <td>Forest Stone Solid Refillable Body Moisturizer</td>\n",
       "      <td>Kate Mcleod</td>\n",
       "      <td>5.0</td>\n",
       "    </tr>\n",
       "    <tr>\n",
       "      <th>4183</th>\n",
       "      <td>Good Girl Gone Bad Eau Fraîche</td>\n",
       "      <td>Kilian Paris</td>\n",
       "      <td>5.0</td>\n",
       "    </tr>\n",
       "    <tr>\n",
       "      <th>4238</th>\n",
       "      <td>The Sun Show Glowy Warmth Talc-Free Baked Bronzer</td>\n",
       "      <td>Kosas</td>\n",
       "      <td>5.0</td>\n",
       "    </tr>\n",
       "    <tr>\n",
       "      <th>4049</th>\n",
       "      <td>Mini Resistance Heat Protecting Leave-In Treat...</td>\n",
       "      <td>Kérastase</td>\n",
       "      <td>5.0</td>\n",
       "    </tr>\n",
       "    <tr>\n",
       "      <th>4420</th>\n",
       "      <td>Mini Advanced Génifique Radiance Boosting Face...</td>\n",
       "      <td>Lancôme</td>\n",
       "      <td>5.0</td>\n",
       "    </tr>\n",
       "    <tr>\n",
       "      <th>4535</th>\n",
       "      <td>Satin Luxe Classic Cream Lipstick - Baby</td>\n",
       "      <td>Lawless</td>\n",
       "      <td>5.0</td>\n",
       "    </tr>\n",
       "    <tr>\n",
       "      <th>4696</th>\n",
       "      <td>By The Fireplace And Beach Walk Perfume Duo Set</td>\n",
       "      <td>Maison Margiela</td>\n",
       "      <td>5.0</td>\n",
       "    </tr>\n",
       "    <tr>\n",
       "      <th>4810</th>\n",
       "      <td>E 3 Makeup Brush</td>\n",
       "      <td>Makeup By Mario</td>\n",
       "      <td>5.0</td>\n",
       "    </tr>\n",
       "    <tr>\n",
       "      <th>4842</th>\n",
       "      <td>Mini Perfect Eau De Parfum Set</td>\n",
       "      <td>Marc Jacobs Fragrances</td>\n",
       "      <td>5.0</td>\n",
       "    </tr>\n",
       "  </tbody>\n",
       "</table>\n",
       "</div>"
      ],
      "text/plain": [
       "                                           product_name  \\\n",
       "3949                                Delikate Try Me Kit   \n",
       "3902     Forest Stone Solid Refillable Body Moisturizer   \n",
       "4183                     Good Girl Gone Bad Eau Fraîche   \n",
       "4238  The Sun Show Glowy Warmth Talc-Free Baked Bronzer   \n",
       "4049  Mini Resistance Heat Protecting Leave-In Treat...   \n",
       "4420  Mini Advanced Génifique Radiance Boosting Face...   \n",
       "4535           Satin Luxe Classic Cream Lipstick - Baby   \n",
       "4696    By The Fireplace And Beach Walk Perfume Duo Set   \n",
       "4810                                   E 3 Makeup Brush   \n",
       "4842                     Mini Perfect Eau De Parfum Set   \n",
       "\n",
       "                  brand_name  rating  \n",
       "3949         Kate Somerville     5.0  \n",
       "3902             Kate Mcleod     5.0  \n",
       "4183            Kilian Paris     5.0  \n",
       "4238                   Kosas     5.0  \n",
       "4049               Kérastase     5.0  \n",
       "4420                 Lancôme     5.0  \n",
       "4535                 Lawless     5.0  \n",
       "4696         Maison Margiela     5.0  \n",
       "4810         Makeup By Mario     5.0  \n",
       "4842  Marc Jacobs Fragrances     5.0  "
      ]
     },
     "execution_count": 35,
     "metadata": {},
     "output_type": "execute_result"
    }
   ],
   "source": [
    "top_brands=df_prodsubset.loc[df_prodsubset.groupby('brand_name')['rating'].idxmax()]\n",
    "\n",
    "top_rated_products= top_brands.sort_values(by='rating',ascending=False).head(10)\n",
    "top_rated_products[['product_name','brand_name','rating']]\n"
   ]
  },
  {
   "cell_type": "markdown",
   "metadata": {},
   "source": [
    "### Analysis 4: Top 10 Brands with Highest Average Ratings using `df_prodsubset`"
   ]
  },
  {
   "cell_type": "markdown",
   "metadata": {},
   "source": [
    "The following code extracts the list of Top 10 brands with highest average ratings."
   ]
  },
  {
   "cell_type": "code",
   "execution_count": 38,
   "metadata": {},
   "outputs": [
    {
     "data": {
      "text/html": [
       "<div>\n",
       "<style scoped>\n",
       "    .dataframe tbody tr th:only-of-type {\n",
       "        vertical-align: middle;\n",
       "    }\n",
       "\n",
       "    .dataframe tbody tr th {\n",
       "        vertical-align: top;\n",
       "    }\n",
       "\n",
       "    .dataframe thead th {\n",
       "        text-align: right;\n",
       "    }\n",
       "</style>\n",
       "<table border=\"1\" class=\"dataframe\">\n",
       "  <thead>\n",
       "    <tr style=\"text-align: right;\">\n",
       "      <th></th>\n",
       "      <th>brand_name</th>\n",
       "      <th>avgrating</th>\n",
       "    </tr>\n",
       "  </thead>\n",
       "  <tbody>\n",
       "    <tr>\n",
       "      <th>87</th>\n",
       "      <td>Erno Laszlo</td>\n",
       "      <td>5.000000</td>\n",
       "    </tr>\n",
       "    <tr>\n",
       "      <th>13</th>\n",
       "      <td>Aquis</td>\n",
       "      <td>4.904800</td>\n",
       "    </tr>\n",
       "    <tr>\n",
       "      <th>174</th>\n",
       "      <td>Macrene Actives</td>\n",
       "      <td>4.889420</td>\n",
       "    </tr>\n",
       "    <tr>\n",
       "      <th>179</th>\n",
       "      <td>Mara</td>\n",
       "      <td>4.823860</td>\n",
       "    </tr>\n",
       "    <tr>\n",
       "      <th>40</th>\n",
       "      <td>Canopy</td>\n",
       "      <td>4.813733</td>\n",
       "    </tr>\n",
       "    <tr>\n",
       "      <th>72</th>\n",
       "      <td>Dominique Cosmetics</td>\n",
       "      <td>4.785700</td>\n",
       "    </tr>\n",
       "    <tr>\n",
       "      <th>30</th>\n",
       "      <td>Bondiboost</td>\n",
       "      <td>4.776950</td>\n",
       "    </tr>\n",
       "    <tr>\n",
       "      <th>62</th>\n",
       "      <td>Damdam</td>\n",
       "      <td>4.752775</td>\n",
       "    </tr>\n",
       "    <tr>\n",
       "      <th>150</th>\n",
       "      <td>Kate Mcleod</td>\n",
       "      <td>4.751583</td>\n",
       "    </tr>\n",
       "    <tr>\n",
       "      <th>182</th>\n",
       "      <td>Maude</td>\n",
       "      <td>4.740100</td>\n",
       "    </tr>\n",
       "  </tbody>\n",
       "</table>\n",
       "</div>"
      ],
      "text/plain": [
       "              brand_name  avgrating\n",
       "87           Erno Laszlo   5.000000\n",
       "13                 Aquis   4.904800\n",
       "174      Macrene Actives   4.889420\n",
       "179                 Mara   4.823860\n",
       "40                Canopy   4.813733\n",
       "72   Dominique Cosmetics   4.785700\n",
       "30            Bondiboost   4.776950\n",
       "62                Damdam   4.752775\n",
       "150          Kate Mcleod   4.751583\n",
       "182                Maude   4.740100"
      ]
     },
     "execution_count": 38,
     "metadata": {},
     "output_type": "execute_result"
    }
   ],
   "source": [
    "reviews_count=df_prodsubset.groupby('brand_name')['rating'].mean().reset_index(name='avgrating')\n",
    "\n",
    "top_avgrated_products= reviews_count.sort_values(by='avgrating',ascending=False).head(10)\n",
    "\n",
    "top_avgrated_products[['brand_name','avgrating']]"
   ]
  },
  {
   "cell_type": "markdown",
   "metadata": {},
   "source": [
    "---"
   ]
  },
  {
   "cell_type": "markdown",
   "metadata": {},
   "source": [
    "To analyze high-priced products with positive reviews, we only need a few specific columns from the original DataFrame. Therefore, I created a subset of the DataFrame named df_priceanalysis, which includes the relevant columns: product_id, product_name, brand_id, brand_name, price_usd, rating, reviews, primary_category, and secondary_category."
   ]
  },
  {
   "cell_type": "markdown",
   "metadata": {},
   "source": [
    "### Analysis 5: High-Priced Products with Positive Reviews - \"Worth the Money\" using `df_priceanalysis`"
   ]
  },
  {
   "cell_type": "code",
   "execution_count": 42,
   "metadata": {},
   "outputs": [
    {
     "data": {
      "text/html": [
       "<div>\n",
       "<style scoped>\n",
       "    .dataframe tbody tr th:only-of-type {\n",
       "        vertical-align: middle;\n",
       "    }\n",
       "\n",
       "    .dataframe tbody tr th {\n",
       "        vertical-align: top;\n",
       "    }\n",
       "\n",
       "    .dataframe thead th {\n",
       "        text-align: right;\n",
       "    }\n",
       "</style>\n",
       "<table border=\"1\" class=\"dataframe\">\n",
       "  <thead>\n",
       "    <tr style=\"text-align: right;\">\n",
       "      <th></th>\n",
       "      <th>product_id</th>\n",
       "      <th>product_name</th>\n",
       "      <th>brand_id</th>\n",
       "      <th>brand_name</th>\n",
       "      <th>price_usd</th>\n",
       "      <th>rating</th>\n",
       "      <th>reviews</th>\n",
       "      <th>primary_category</th>\n",
       "      <th>secondary_category</th>\n",
       "    </tr>\n",
       "  </thead>\n",
       "  <tbody>\n",
       "    <tr>\n",
       "      <th>89</th>\n",
       "      <td>P439055</td>\n",
       "      <td>GENIUS Sleeping Collagen Moisturizer</td>\n",
       "      <td>6018</td>\n",
       "      <td>Algenist</td>\n",
       "      <td>98.0</td>\n",
       "      <td>4.5413</td>\n",
       "      <td>1321.0</td>\n",
       "      <td>Skincare</td>\n",
       "      <td>Moisturizers</td>\n",
       "    </tr>\n",
       "    <tr>\n",
       "      <th>90</th>\n",
       "      <td>P421277</td>\n",
       "      <td>GENIUS Liquid Collagen Serum</td>\n",
       "      <td>6018</td>\n",
       "      <td>Algenist</td>\n",
       "      <td>115.0</td>\n",
       "      <td>4.0259</td>\n",
       "      <td>1159.0</td>\n",
       "      <td>Skincare</td>\n",
       "      <td>Treatments</td>\n",
       "    </tr>\n",
       "    <tr>\n",
       "      <th>91</th>\n",
       "      <td>P467602</td>\n",
       "      <td>Triple Algae Eye Renewal Balm Eye Cream</td>\n",
       "      <td>6018</td>\n",
       "      <td>Algenist</td>\n",
       "      <td>68.0</td>\n",
       "      <td>4.5306</td>\n",
       "      <td>1142.0</td>\n",
       "      <td>Skincare</td>\n",
       "      <td>Eye Care</td>\n",
       "    </tr>\n",
       "    <tr>\n",
       "      <th>92</th>\n",
       "      <td>P432045</td>\n",
       "      <td>GENIUS Liquid Collagen Lip Treatment</td>\n",
       "      <td>6018</td>\n",
       "      <td>Algenist</td>\n",
       "      <td>29.0</td>\n",
       "      <td>3.8721</td>\n",
       "      <td>649.0</td>\n",
       "      <td>Skincare</td>\n",
       "      <td>Lip Balms &amp; Treatments</td>\n",
       "    </tr>\n",
       "    <tr>\n",
       "      <th>93</th>\n",
       "      <td>P311143</td>\n",
       "      <td>SUBLIME DEFENSE Ultra Lightweight UV Defense F...</td>\n",
       "      <td>6018</td>\n",
       "      <td>Algenist</td>\n",
       "      <td>28.0</td>\n",
       "      <td>4.4134</td>\n",
       "      <td>508.0</td>\n",
       "      <td>Skincare</td>\n",
       "      <td>Sunscreen</td>\n",
       "    </tr>\n",
       "  </tbody>\n",
       "</table>\n",
       "</div>"
      ],
      "text/plain": [
       "   product_id                                       product_name  brand_id  \\\n",
       "89    P439055               GENIUS Sleeping Collagen Moisturizer      6018   \n",
       "90    P421277                       GENIUS Liquid Collagen Serum      6018   \n",
       "91    P467602            Triple Algae Eye Renewal Balm Eye Cream      6018   \n",
       "92    P432045               GENIUS Liquid Collagen Lip Treatment      6018   \n",
       "93    P311143  SUBLIME DEFENSE Ultra Lightweight UV Defense F...      6018   \n",
       "\n",
       "   brand_name  price_usd  rating  reviews primary_category  \\\n",
       "89   Algenist       98.0  4.5413   1321.0         Skincare   \n",
       "90   Algenist      115.0  4.0259   1159.0         Skincare   \n",
       "91   Algenist       68.0  4.5306   1142.0         Skincare   \n",
       "92   Algenist       29.0  3.8721    649.0         Skincare   \n",
       "93   Algenist       28.0  4.4134    508.0         Skincare   \n",
       "\n",
       "        secondary_category  \n",
       "89            Moisturizers  \n",
       "90              Treatments  \n",
       "91                Eye Care  \n",
       "92  Lip Balms & Treatments  \n",
       "93               Sunscreen  "
      ]
     },
     "execution_count": 42,
     "metadata": {},
     "output_type": "execute_result"
    }
   ],
   "source": [
    "df_subset= df_products[['product_id', 'product_name', 'brand_id','brand_name', 'price_usd', 'rating', 'reviews','primary_category','secondary_category']]\n",
    "\n",
    "# Considering skincare category for this analysis and excluded high-tech tools from the dataset.\n",
    "\n",
    "df_priceanalysis=df_subset[df_subset['primary_category']=='Skincare']\n",
    "\n",
    "df_priceanalysis=df_priceanalysis[~df_priceanalysis['secondary_category'].isin(['High Tech Tools'])]\n",
    "\n",
    "df_priceanalysis.head()\n",
    "# df_priceanalysis=pd.DataFrame(df_priceanalysis)\n"
   ]
  },
  {
   "cell_type": "code",
   "execution_count": 43,
   "metadata": {},
   "outputs": [],
   "source": [
    "# Identifying missing values\n",
    "df_priceanalysis.isnull().sum()\n",
    "\n",
    "# Since the proportion of missing values in the rating and reviews columns are low relative to the total number of rows in the DataFrame\n",
    "#I have decided to remove the rows with missing values in those columns.\n",
    "\n",
    "df_priceanalysis.dropna(subset=['rating', 'reviews'],inplace=True)\n"
   ]
  },
  {
   "cell_type": "code",
   "execution_count": 44,
   "metadata": {},
   "outputs": [
    {
     "data": {
      "text/html": [
       "<div>\n",
       "<style scoped>\n",
       "    .dataframe tbody tr th:only-of-type {\n",
       "        vertical-align: middle;\n",
       "    }\n",
       "\n",
       "    .dataframe tbody tr th {\n",
       "        vertical-align: top;\n",
       "    }\n",
       "\n",
       "    .dataframe thead th {\n",
       "        text-align: right;\n",
       "    }\n",
       "</style>\n",
       "<table border=\"1\" class=\"dataframe\">\n",
       "  <thead>\n",
       "    <tr style=\"text-align: right;\">\n",
       "      <th></th>\n",
       "      <th>product_name</th>\n",
       "      <th>brand_name</th>\n",
       "      <th>price_usd</th>\n",
       "      <th>rating</th>\n",
       "      <th>reviews</th>\n",
       "    </tr>\n",
       "  </thead>\n",
       "  <tbody>\n",
       "    <tr>\n",
       "      <th>4311</th>\n",
       "      <td>Crème de la Mer Moisturizer</td>\n",
       "      <td>La Mer</td>\n",
       "      <td>380.0</td>\n",
       "      <td>4.0566</td>\n",
       "      <td>1377.0</td>\n",
       "    </tr>\n",
       "    <tr>\n",
       "      <th>4313</th>\n",
       "      <td>The Concentrate Serum</td>\n",
       "      <td>La Mer</td>\n",
       "      <td>425.0</td>\n",
       "      <td>4.5187</td>\n",
       "      <td>563.0</td>\n",
       "    </tr>\n",
       "    <tr>\n",
       "      <th>4320</th>\n",
       "      <td>The Regenerating Serum</td>\n",
       "      <td>La Mer</td>\n",
       "      <td>410.0</td>\n",
       "      <td>4.3750</td>\n",
       "      <td>152.0</td>\n",
       "    </tr>\n",
       "    <tr>\n",
       "      <th>4323</th>\n",
       "      <td>The Moisturizing Soft Cream Moisturizer</td>\n",
       "      <td>La Mer</td>\n",
       "      <td>380.0</td>\n",
       "      <td>4.5146</td>\n",
       "      <td>103.0</td>\n",
       "    </tr>\n",
       "    <tr>\n",
       "      <th>4324</th>\n",
       "      <td>The Moisturizing Soft Lotion</td>\n",
       "      <td>La Mer</td>\n",
       "      <td>320.0</td>\n",
       "      <td>4.0704</td>\n",
       "      <td>71.0</td>\n",
       "    </tr>\n",
       "    <tr>\n",
       "      <th>4326</th>\n",
       "      <td>The Moisturizing Matte Lotion</td>\n",
       "      <td>La Mer</td>\n",
       "      <td>320.0</td>\n",
       "      <td>4.2258</td>\n",
       "      <td>62.0</td>\n",
       "    </tr>\n",
       "    <tr>\n",
       "      <th>6937</th>\n",
       "      <td>Ultimate Revival Cream</td>\n",
       "      <td>SK-II</td>\n",
       "      <td>400.0</td>\n",
       "      <td>4.4667</td>\n",
       "      <td>60.0</td>\n",
       "    </tr>\n",
       "    <tr>\n",
       "      <th>2069</th>\n",
       "      <td>Night Serum</td>\n",
       "      <td>Dr. Barbara Sturm</td>\n",
       "      <td>310.0</td>\n",
       "      <td>4.7021</td>\n",
       "      <td>47.0</td>\n",
       "    </tr>\n",
       "    <tr>\n",
       "      <th>4343</th>\n",
       "      <td>Crème de La Mer Duet</td>\n",
       "      <td>La Mer</td>\n",
       "      <td>380.0</td>\n",
       "      <td>4.4615</td>\n",
       "      <td>13.0</td>\n",
       "    </tr>\n",
       "    <tr>\n",
       "      <th>6939</th>\n",
       "      <td>Ultimate Revival Essence</td>\n",
       "      <td>SK-II</td>\n",
       "      <td>315.0</td>\n",
       "      <td>4.5455</td>\n",
       "      <td>11.0</td>\n",
       "    </tr>\n",
       "  </tbody>\n",
       "</table>\n",
       "</div>"
      ],
      "text/plain": [
       "                                 product_name         brand_name  price_usd  \\\n",
       "4311              Crème de la Mer Moisturizer             La Mer      380.0   \n",
       "4313                    The Concentrate Serum             La Mer      425.0   \n",
       "4320                   The Regenerating Serum             La Mer      410.0   \n",
       "4323  The Moisturizing Soft Cream Moisturizer             La Mer      380.0   \n",
       "4324             The Moisturizing Soft Lotion             La Mer      320.0   \n",
       "4326            The Moisturizing Matte Lotion             La Mer      320.0   \n",
       "6937                   Ultimate Revival Cream              SK-II      400.0   \n",
       "2069                              Night Serum  Dr. Barbara Sturm      310.0   \n",
       "4343                     Crème de La Mer Duet             La Mer      380.0   \n",
       "6939                 Ultimate Revival Essence              SK-II      315.0   \n",
       "\n",
       "      rating  reviews  \n",
       "4311  4.0566   1377.0  \n",
       "4313  4.5187    563.0  \n",
       "4320  4.3750    152.0  \n",
       "4323  4.5146    103.0  \n",
       "4324  4.0704     71.0  \n",
       "4326  4.2258     62.0  \n",
       "6937  4.4667     60.0  \n",
       "2069  4.7021     47.0  \n",
       "4343  4.4615     13.0  \n",
       "6939  4.5455     11.0  "
      ]
     },
     "execution_count": 44,
     "metadata": {},
     "output_type": "execute_result"
    }
   ],
   "source": [
    "# Sorting the products to get Top 10 most Expensive Products\n",
    "highprice_prods=df_priceanalysis[(df_priceanalysis['price_usd'] > 300.0 ) & (df_priceanalysis['rating'] > 4.0)]\n",
    "\n",
    "highrating_prods=highprice_prods.sort_values(by='reviews',ascending=False).head(10)\n",
    "\n",
    "highrating_prods[['product_name', 'brand_name', 'price_usd', 'rating', 'reviews']]\n",
    "\n"
   ]
  },
  {
   "cell_type": "markdown",
   "metadata": {},
   "source": [
    "### Analysis 6: Average Ratings by Product Category"
   ]
  },
  {
   "cell_type": "code",
   "execution_count": 46,
   "metadata": {},
   "outputs": [
    {
     "data": {
      "text/html": [
       "<div>\n",
       "<style scoped>\n",
       "    .dataframe tbody tr th:only-of-type {\n",
       "        vertical-align: middle;\n",
       "    }\n",
       "\n",
       "    .dataframe tbody tr th {\n",
       "        vertical-align: top;\n",
       "    }\n",
       "\n",
       "    .dataframe thead th {\n",
       "        text-align: right;\n",
       "    }\n",
       "</style>\n",
       "<table border=\"1\" class=\"dataframe\">\n",
       "  <thead>\n",
       "    <tr style=\"text-align: right;\">\n",
       "      <th></th>\n",
       "      <th>primary_category</th>\n",
       "      <th>avg_ratings</th>\n",
       "    </tr>\n",
       "  </thead>\n",
       "  <tbody>\n",
       "    <tr>\n",
       "      <th>0</th>\n",
       "      <td>Gifts</td>\n",
       "      <td>4.563450</td>\n",
       "    </tr>\n",
       "    <tr>\n",
       "      <th>1</th>\n",
       "      <td>Men</td>\n",
       "      <td>4.504992</td>\n",
       "    </tr>\n",
       "    <tr>\n",
       "      <th>2</th>\n",
       "      <td>Tools &amp; Brushes</td>\n",
       "      <td>4.271458</td>\n",
       "    </tr>\n",
       "    <tr>\n",
       "      <th>3</th>\n",
       "      <td>Fragrance</td>\n",
       "      <td>4.230889</td>\n",
       "    </tr>\n",
       "    <tr>\n",
       "      <th>4</th>\n",
       "      <td>Skincare</td>\n",
       "      <td>4.228890</td>\n",
       "    </tr>\n",
       "    <tr>\n",
       "      <th>5</th>\n",
       "      <td>Hair</td>\n",
       "      <td>4.201113</td>\n",
       "    </tr>\n",
       "    <tr>\n",
       "      <th>6</th>\n",
       "      <td>Bath &amp; Body</td>\n",
       "      <td>4.195015</td>\n",
       "    </tr>\n",
       "    <tr>\n",
       "      <th>7</th>\n",
       "      <td>Makeup</td>\n",
       "      <td>4.146845</td>\n",
       "    </tr>\n",
       "    <tr>\n",
       "      <th>8</th>\n",
       "      <td>Mini Size</td>\n",
       "      <td>4.005665</td>\n",
       "    </tr>\n",
       "  </tbody>\n",
       "</table>\n",
       "</div>"
      ],
      "text/plain": [
       "  primary_category  avg_ratings\n",
       "0            Gifts     4.563450\n",
       "1              Men     4.504992\n",
       "2  Tools & Brushes     4.271458\n",
       "3        Fragrance     4.230889\n",
       "4         Skincare     4.228890\n",
       "5             Hair     4.201113\n",
       "6      Bath & Body     4.195015\n",
       "7           Makeup     4.146845\n",
       "8        Mini Size     4.005665"
      ]
     },
     "execution_count": 46,
     "metadata": {},
     "output_type": "execute_result"
    }
   ],
   "source": [
    "df_category_rating=df_products[['primary_category','rating']]\n",
    "df_category_rating=df_category_rating.copy()\n",
    "df_category_rating.dropna(inplace=True)\n",
    "\n",
    "avg_ratings_by_category = df_category_rating.groupby('primary_category')['rating'].mean().sort_values(ascending=False).reset_index(name='avg_ratings')\n",
    "top_category = avg_ratings_by_category.index[0]\n",
    "low_category = avg_ratings_by_category.index[-1]\n",
    "\n",
    "avg_ratings_by_category"
   ]
  },
  {
   "cell_type": "code",
   "execution_count": null,
   "metadata": {},
   "outputs": [],
   "source": []
  }
 ],
 "metadata": {
  "kaggle": {
   "accelerator": "none",
   "dataSources": [
    {
     "datasetId": 3166852,
     "sourceId": 6237358,
     "sourceType": "datasetVersion"
    }
   ],
   "dockerImageVersionId": 30761,
   "isGpuEnabled": false,
   "isInternetEnabled": false,
   "language": "python",
   "sourceType": "notebook"
  },
  "kernelspec": {
   "display_name": "Python 3 (ipykernel)",
   "language": "python",
   "name": "python3"
  },
  "language_info": {
   "codemirror_mode": {
    "name": "ipython",
    "version": 3
   },
   "file_extension": ".py",
   "mimetype": "text/x-python",
   "name": "python",
   "nbconvert_exporter": "python",
   "pygments_lexer": "ipython3",
   "version": "3.12.4"
  }
 },
 "nbformat": 4,
 "nbformat_minor": 4
}
